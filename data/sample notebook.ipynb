{
 "cells": [
  {
   "cell_type": "markdown",
   "metadata": {},
   "source": [
    "# Contents\n",
    "\n",
    "[1. Data Preparation](#Data-Preparation)  \n",
    "&emsp;[a. Read Data](#Read-Data)  \n",
    "&emsp;[b. Recommended Pre-Processing](#Recommended-Pre-Processing)  \n",
    "&emsp;&emsp;[i. Filling Gaps](#Filling-gaps)  \n",
    "&emsp;&emsp;[ii. Lyrics Normalisation](#Lyrics-Normalisation)  \n",
    "[2. Filtering Data](#Filtering-Data)  \n",
    "&emsp;[a. Get Unique Tracks](#Get-Unique-Tracks) \n",
    "    "
   ]
  },
  {
   "cell_type": "markdown",
   "metadata": {},
   "source": [
    "# Data Preparation"
   ]
  },
  {
   "cell_type": "markdown",
   "metadata": {},
   "source": [
    "## Read Data"
   ]
  },
  {
   "cell_type": "code",
   "execution_count": 43,
   "metadata": {},
   "outputs": [],
   "source": [
    "import pandas as pd\n",
    "df = pd.read_csv('lyrics.csv')\n"
   ]
  },
  {
   "cell_type": "markdown",
   "metadata": {},
   "source": [
    "## Recommended Pre-Processing"
   ]
  },
  {
   "cell_type": "markdown",
   "metadata": {},
   "source": [
    "### Filling Gaps"
   ]
  },
  {
   "cell_type": "code",
   "execution_count": 44,
   "metadata": {},
   "outputs": [],
   "source": [
    "# make all na fields reflect as such\n",
    "df = df.fillna('NA')\n",
    "\n",
    "# ensure date format for album release date\n",
    "df['album_rd'] = pd.to_datetime(df.album_rd)\n",
    "\n",
    "# ignore any track that does not have any lyrics or are album notes\n",
    "df = df[~df['eng_track_title'].str.contains('skit', case=False) & ~df['eng_track_title'].str.contains('note', case=False)]\n"
   ]
  },
  {
   "cell_type": "markdown",
   "metadata": {},
   "source": [
    "### Lyrics Normalisation\n",
    "\n",
    "Method adapted from :"
   ]
  },
  {
   "cell_type": "code",
   "execution_count": 45,
   "metadata": {},
   "outputs": [],
   "source": [
    "import re\n",
    "def normalise(text, remove_punc=True):\n",
    "    \"\"\"method to normalise text\"\"\"\n",
    "    # change text to lowercase and remove leading and trailing white spaces\n",
    "    text = text.lower().strip()\n",
    "\n",
    "    # remove punctuation\n",
    "    if remove_punc:\n",
    "        # remove punctuation\n",
    "        text = re.sub(r'[\\W]', ' ', text)\n",
    "        # remove double spacing sometimes caused by removal of punctuation\n",
    "        text = re.sub(r'\\s+', ' ', text)\n",
    "\n",
    "    return text\n"
   ]
  },
  {
   "cell_type": "code",
   "execution_count": 46,
   "metadata": {},
   "outputs": [],
   "source": [
    "# normalise lyrics\n",
    "df['lyrics'] = df['lyrics'].apply(lambda x: normalise(x))\n"
   ]
  },
  {
   "cell_type": "markdown",
   "metadata": {},
   "source": [
    "# Filtering Data"
   ]
  },
  {
   "cell_type": "markdown",
   "metadata": {},
   "source": [
    "## Get Unique Tracks"
   ]
  },
  {
   "cell_type": "markdown",
   "metadata": {},
   "source": [
    "1. Using Pandas' built-in duplicates"
   ]
  },
  {
   "cell_type": "code",
   "execution_count": 49,
   "metadata": {},
   "outputs": [],
   "source": [
    "df.drop_duplicates(subset='track_title', inplace=True)\n"
   ]
  },
  {
   "cell_type": "markdown",
   "metadata": {},
   "source": [
    "2. Using the 'repackaged' column\n",
    "\n",
    "duplicated tracks are labelled as True "
   ]
  },
  {
   "cell_type": "code",
   "execution_count": 50,
   "metadata": {},
   "outputs": [],
   "source": [
    "df = df[~df['repackaged']]\n"
   ]
  }
 ],
 "metadata": {
  "kernelspec": {
   "display_name": "Python 3",
   "language": "python",
   "name": "python3"
  },
  "language_info": {
   "codemirror_mode": {
    "name": "ipython",
    "version": 3
   },
   "file_extension": ".py",
   "mimetype": "text/x-python",
   "name": "python",
   "nbconvert_exporter": "python",
   "pygments_lexer": "ipython3",
   "version": "3.7.6"
  }
 },
 "nbformat": 4,
 "nbformat_minor": 4
}
